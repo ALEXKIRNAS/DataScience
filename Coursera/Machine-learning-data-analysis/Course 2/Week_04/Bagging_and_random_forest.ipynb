{
 "cells": [
  {
   "cell_type": "code",
   "execution_count": 1,
   "metadata": {
    "collapsed": true
   },
   "outputs": [],
   "source": [
    "import numpy as np\n",
    "import sklearn as skl\n",
    "import pandas as pd\n",
    "from matplotlib import pyplot as plt"
   ]
  },
  {
   "cell_type": "code",
   "execution_count": 3,
   "metadata": {
    "collapsed": false
   },
   "outputs": [],
   "source": [
    "%matplotlib inline"
   ]
  },
  {
   "cell_type": "code",
   "execution_count": 5,
   "metadata": {
    "collapsed": false
   },
   "outputs": [],
   "source": [
    "from sklearn.datasets import load_digits\n",
    "data = load_digits()"
   ]
  },
  {
   "cell_type": "code",
   "execution_count": 7,
   "metadata": {
    "collapsed": false
   },
   "outputs": [],
   "source": [
    "target = data['target']\n",
    "data = data['data']"
   ]
  },
  {
   "cell_type": "code",
   "execution_count": 36,
   "metadata": {
    "collapsed": false
   },
   "outputs": [
    {
     "data": {
      "text/plain": [
       "(1797, 64)"
      ]
     },
     "execution_count": 36,
     "metadata": {},
     "output_type": "execute_result"
    }
   ],
   "source": [
    "data.shape"
   ]
  },
  {
   "cell_type": "code",
   "execution_count": 10,
   "metadata": {
    "collapsed": false
   },
   "outputs": [
    {
     "data": {
      "text/plain": [
       "array([0, 1, 2, ..., 8, 9, 8])"
      ]
     },
     "execution_count": 10,
     "metadata": {},
     "output_type": "execute_result"
    }
   ],
   "source": [
    "target"
   ]
  },
  {
   "cell_type": "code",
   "execution_count": 11,
   "metadata": {
    "collapsed": true
   },
   "outputs": [],
   "source": [
    "from sklearn.cross_validation import cross_val_score"
   ]
  },
  {
   "cell_type": "code",
   "execution_count": 12,
   "metadata": {
    "collapsed": false
   },
   "outputs": [
    {
     "data": {
      "text/plain": [
       "0.82540576364715579"
      ]
     },
     "execution_count": 12,
     "metadata": {},
     "output_type": "execute_result"
    }
   ],
   "source": [
    "# Task 1\n",
    "from sklearn import tree\n",
    "estimator = tree.DecisionTreeClassifier()\n",
    "scores = cross_val_score(estimator=estimator, X=data, y=target, n_jobs=-1, cv=10, scoring='accuracy')\n",
    "score = scores.mean()\n",
    "score"
   ]
  },
  {
   "cell_type": "code",
   "execution_count": 15,
   "metadata": {
    "collapsed": false
   },
   "outputs": [
    {
     "data": {
      "text/plain": [
       "0.9232059501168548"
      ]
     },
     "execution_count": 15,
     "metadata": {},
     "output_type": "execute_result"
    }
   ],
   "source": [
    "#Task 2\n",
    "from sklearn.ensemble import BaggingClassifier\n",
    "bagg_estimator = BaggingClassifier(base_estimator=estimator, n_estimators=100)\n",
    "scores = cross_val_score(estimator=bagg_estimator, X=data, y=target, n_jobs=-1, cv=10, scoring='accuracy')\n",
    "score = scores.mean()\n",
    "score"
   ]
  },
  {
   "cell_type": "code",
   "execution_count": 37,
   "metadata": {
    "collapsed": false
   },
   "outputs": [
    {
     "name": "stdout",
     "output_type": "stream",
     "text": [
      "0.925554227306\n"
     ]
    }
   ],
   "source": [
    "#Task 3\n",
    "ans3 = 0\n",
    "for _ in range(10):\n",
    "    estimator = tree.DecisionTreeClassifier()\n",
    "    bagg_estimator = BaggingClassifier(base_estimator=estimator, max_features=int(np.sqrt(data.shape[1])), n_estimators=100)\n",
    "    scores = cross_val_score(estimator=bagg_estimator, X=data, y=target, cv=10, scoring='accuracy', n_jobs=-1)\n",
    "    score = scores.mean()\n",
    "    ans3 += score\n",
    "print(ans3 / 10)"
   ]
  },
  {
   "cell_type": "code",
   "execution_count": 38,
   "metadata": {
    "collapsed": false
   },
   "outputs": [
    {
     "name": "stdout",
     "output_type": "stream",
     "text": [
      "0.955545923539\n"
     ]
    }
   ],
   "source": [
    "#Task 4\n",
    "ans4 = 0\n",
    "for _ in range(10):\n",
    "    estimator = tree.DecisionTreeClassifier(max_features=int(np.sqrt(data.shape[1])))\n",
    "    bagg_estimator = BaggingClassifier(base_estimator=estimator, n_estimators=100)\n",
    "    scores = cross_val_score(estimator=bagg_estimator, X=data, y=target, cv=10, scoring='accuracy', n_jobs=-1)\n",
    "    score = scores.mean()\n",
    "    ans4 += score\n",
    "print(ans4 / 10)"
   ]
  },
  {
   "cell_type": "code",
   "execution_count": null,
   "metadata": {
    "collapsed": true
   },
   "outputs": [],
   "source": []
  }
 ],
 "metadata": {
  "kernelspec": {
   "display_name": "Python 3",
   "language": "python",
   "name": "python3"
  },
  "language_info": {
   "codemirror_mode": {
    "name": "ipython",
    "version": 3
   },
   "file_extension": ".py",
   "mimetype": "text/x-python",
   "name": "python",
   "nbconvert_exporter": "python",
   "pygments_lexer": "ipython3",
   "version": "3.6.0"
  }
 },
 "nbformat": 4,
 "nbformat_minor": 2
}
