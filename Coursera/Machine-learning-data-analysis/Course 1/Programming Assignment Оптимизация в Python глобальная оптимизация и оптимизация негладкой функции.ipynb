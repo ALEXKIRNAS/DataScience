{
 "cells": [
  {
   "cell_type": "code",
   "execution_count": 5,
   "metadata": {
    "collapsed": true
   },
   "outputs": [],
   "source": [
    "import numpy as np\n",
    "import scipy.optimize as opt\n",
    "from matplotlib import pyplot as plt\n",
    "import math"
   ]
  },
  {
   "cell_type": "code",
   "execution_count": 6,
   "metadata": {
    "collapsed": true
   },
   "outputs": [],
   "source": [
    "def f(x):\n",
    "    return math.sin(x / 5) * math.exp(x / 10) + 5 * math.exp(-x / 2)"
   ]
  },
  {
   "cell_type": "code",
   "execution_count": 9,
   "metadata": {
    "collapsed": false
   },
   "outputs": [
    {
     "name": "stdout",
     "output_type": "stream",
     "text": [
      "1 [ 4.13628706]\n",
      "2 [ 4.13627619]\n",
      "3 [ 4.13623332]\n",
      "4 [ 4.13625698]\n",
      "5 [ 4.13628831]\n",
      "6 [ 4.13629005]\n",
      "7 [ 4.13628939]\n",
      "8 [ 4.13628868]\n",
      "9 [ 4.13630231]\n",
      "10 [ 4.13630013]\n",
      "11 [ 25.88019285]\n",
      "12 [ 25.88019227]\n",
      "13 [ 88.71203612]\n",
      "14 [ 25.88019309]\n",
      "15 [ 24.67766107]\n",
      "16 [ 25.88019877]\n",
      "17 [ 25.8801768]\n",
      "18 [ 25.88019851]\n",
      "19 [ 25.88017637]\n",
      "20 [ 25.88018742]\n",
      "21 [ 25.88020626]\n",
      "22 [ 25.88019447]\n",
      "23 [ 25.88019265]\n",
      "24 [ 25.88019536]\n",
      "25 [ 25.88018592]\n",
      "26 [ 25.88019563]\n",
      "27 [ 25.88019774]\n",
      "28 [ 25.88019333]\n",
      "29 [ 25.88020466]\n",
      "30 [ 25.880193]\n"
     ]
    }
   ],
   "source": [
    "for x in range(1, 31):\n",
    "    print(x, opt.minimize(f, x).x)"
   ]
  },
  {
   "cell_type": "code",
   "execution_count": 11,
   "metadata": {
    "collapsed": false
   },
   "outputs": [
    {
     "data": {
      "text/plain": [
       "      fun: 1.745268290332287\n",
       " hess_inv: <1x1 LbfgsInvHessProduct with dtype=float64>\n",
       "      jac: array([ -2.88657986e-07])\n",
       "  message: b'CONVERGENCE: NORM_OF_PROJECTED_GRADIENT_<=_PGTOL'\n",
       "     nfev: 14\n",
       "      nit: 6\n",
       "   status: 0\n",
       "  success: True\n",
       "        x: array([ 4.13628675])"
      ]
     },
     "execution_count": 11,
     "metadata": {},
     "output_type": "execute_result"
    }
   ],
   "source": [
    "opt.minimize(f, 2, method='L-BFGS-B')"
   ]
  },
  {
   "cell_type": "code",
   "execution_count": 12,
   "metadata": {
    "collapsed": false
   },
   "outputs": [
    {
     "data": {
      "text/plain": [
       "      fun: -11.898894665981299\n",
       " hess_inv: <1x1 LbfgsInvHessProduct with dtype=float64>\n",
       "      jac: array([  1.77635684e-07])\n",
       "  message: b'CONVERGENCE: NORM_OF_PROJECTED_GRADIENT_<=_PGTOL'\n",
       "     nfev: 14\n",
       "      nit: 6\n",
       "   status: 0\n",
       "  success: True\n",
       "        x: array([ 25.88019331])"
      ]
     },
     "execution_count": 12,
     "metadata": {},
     "output_type": "execute_result"
    }
   ],
   "source": [
    "opt.minimize(f, 30, method='L-BFGS-B')"
   ]
  },
  {
   "cell_type": "code",
   "execution_count": 13,
   "metadata": {
    "collapsed": false
   },
   "outputs": [
    {
     "data": {
      "text/plain": [
       "[<matplotlib.lines.Line2D at 0x118b44780>]"
      ]
     },
     "execution_count": 13,
     "metadata": {},
     "output_type": "execute_result"
    },
    {
     "data": {
      "image/png": "[encoded data removed]",
      "text/plain": [
       "<matplotlib.figure.Figure at 0x1156f2128>"
      ]
     },
     "metadata": {},
     "output_type": "display_data"
    }
   ],
   "source": [
    "%matplotlib inline\n",
    "x = [x for x in range(1, 31)]\n",
    "y = [f(x) for x in range(1, 31)]\n",
    "plt.plot(x, y)"
   ]
  },
  {
   "cell_type": "code",
   "execution_count": 16,
   "metadata": {
    "collapsed": false
   },
   "outputs": [
    {
     "name": "stdout",
     "output_type": "stream",
     "text": [
      "[ 25.88019344] -11.898894665981272\n"
     ]
    }
   ],
   "source": [
    "result = opt.differential_evolution(f, [(1, 30)])\n",
    "print(result.x, result.fun)"
   ]
  },
  {
   "cell_type": "code",
   "execution_count": 19,
   "metadata": {
    "collapsed": false
   },
   "outputs": [
    {
     "data": {
      "text/plain": [
       "[<matplotlib.lines.Line2D at 0x119024358>]"
      ]
     },
     "execution_count": 19,
     "metadata": {},
     "output_type": "execute_result"
    },
    {
     "data": {
      "image/png": "[encoded data removed]",
      "text/plain": [
       "<matplotlib.figure.Figure at 0x118da99e8>"
      ]
     },
     "metadata": {},
     "output_type": "display_data"
    }
   ],
   "source": [
    "def h(x):\n",
    "    return int(f(x))\n",
    "x = [x for x in range(1, 31)]\n",
    "y = [h(x) for x in range(1, 31)]\n",
    "plt.plot(x, y)"
   ]
  },
  {
   "cell_type": "code",
   "execution_count": 20,
   "metadata": {
    "collapsed": false
   },
   "outputs": [
    {
     "data": {
      "text/plain": [
       "      fun: -5\n",
       " hess_inv: <1x1 LbfgsInvHessProduct with dtype=float64>\n",
       "      jac: array([ 0.])\n",
       "  message: b'CONVERGENCE: NORM_OF_PROJECTED_GRADIENT_<=_PGTOL'\n",
       "     nfev: 2\n",
       "      nit: 0\n",
       "   status: 0\n",
       "  success: True\n",
       "        x: array([ 30.])"
      ]
     },
     "execution_count": 20,
     "metadata": {},
     "output_type": "execute_result"
    }
   ],
   "source": [
    "opt.minimize(h, 30, method='L-BFGS-B')"
   ]
  },
  {
   "cell_type": "code",
   "execution_count": 21,
   "metadata": {
    "collapsed": false
   },
   "outputs": [
    {
     "name": "stdout",
     "output_type": "stream",
     "text": [
      "[ 25.86586295] -11.0\n"
     ]
    }
   ],
   "source": [
    "result = opt.differential_evolution(h, [(1, 30)])\n",
    "print(result.x, result.fun)"
   ]
  },
  {
   "cell_type": "code",
   "execution_count": null,
   "metadata": {
    "collapsed": true
   },
   "outputs": [],
   "source": []
  }
 ],
 "metadata": {
  "kernelspec": {
   "display_name": "Python 3",
   "language": "python",
   "name": "python3"
  },
  "language_info": {
   "codemirror_mode": {
    "name": "ipython",
    "version": 3
   },
   "file_extension": ".py",
   "mimetype": "text/x-python",
   "name": "python",
   "nbconvert_exporter": "python",
   "pygments_lexer": "ipython3",
   "version": "3.6.0"
  }
 },
 "nbformat": 4,
 "nbformat_minor": 2
}
