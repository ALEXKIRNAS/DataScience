{
 "cells": [
  {
   "cell_type": "code",
   "execution_count": 1,
   "metadata": {
    "collapsed": true
   },
   "outputs": [],
   "source": [
    "import numpy as np"
   ]
  },
  {
   "cell_type": "code",
   "execution_count": 2,
   "metadata": {
    "collapsed": true
   },
   "outputs": [],
   "source": [
    "train_X, train_y, test_X, test_y = [], [], [], []"
   ]
  },
  {
   "cell_type": "code",
   "execution_count": 3,
   "metadata": {
    "collapsed": true
   },
   "outputs": [],
   "source": [
    "def unique(seq):\n",
    "    result = []\n",
    "    for x in seq:\n",
    "        if x not in result:\n",
    "            result.append(x)\n",
    "    return result"
   ]
  },
  {
   "cell_type": "code",
   "execution_count": 4,
   "metadata": {
    "collapsed": false
   },
   "outputs": [],
   "source": [
    "for line in open('coursera_sessions_train.txt'):\n",
    "    x, y = line.split(';')\n",
    "    train_X.append([int(value) for value in x.split(',')])\n",
    "    \n",
    "    y = y.strip()\n",
    "    if y:\n",
    "        y = [int(value) for value in y.split(',')]\n",
    "    else: \n",
    "        y = []\n",
    "    train_y.append(y)"
   ]
  },
  {
   "cell_type": "code",
   "execution_count": 5,
   "metadata": {
    "collapsed": false
   },
   "outputs": [],
   "source": [
    "for line in open('coursera_sessions_test.txt'):\n",
    "    x, y = line.split(';')\n",
    "    test_X.append([int(value) for value in x.split(',')])\n",
    "    \n",
    "    y = y.strip()\n",
    "    if y:\n",
    "        y = [int(value) for value in y.split(',')]\n",
    "    else: \n",
    "        y = []\n",
    "    test_y.append(y)"
   ]
  },
  {
   "cell_type": "code",
   "execution_count": 6,
   "metadata": {
    "collapsed": false
   },
   "outputs": [],
   "source": [
    "from collections import Counter\n",
    "watched_counter = Counter(value for session_values in train_X for value in session_values)\n",
    "bought_counter = Counter(value for session_values in train_y for value in session_values)"
   ]
  },
  {
   "cell_type": "code",
   "execution_count": 7,
   "metadata": {
    "collapsed": true
   },
   "outputs": [],
   "source": [
    "def precision(y_pred, y_true, k):\n",
    "    seq = y_pred[:k]\n",
    "    return sum(1 for value in seq if value in y_true) / k"
   ]
  },
  {
   "cell_type": "code",
   "execution_count": 8,
   "metadata": {
    "collapsed": true
   },
   "outputs": [],
   "source": [
    "def recall(y_pred, y_true, k): \n",
    "    predictions = y_pred[:k]\n",
    "    return sum(1 for value in y_true if value in predictions) / len(y_true)"
   ]
  },
  {
   "cell_type": "code",
   "execution_count": 9,
   "metadata": {
    "collapsed": true
   },
   "outputs": [],
   "source": [
    "X_train_not_empty = [train_X[idx] for idx in range(len(train_X)) if train_y[idx]]\n",
    "y_train_not_empty = [train_y[idx] for idx in range(len(train_y)) if train_y[idx]]"
   ]
  },
  {
   "cell_type": "code",
   "execution_count": 10,
   "metadata": {
    "collapsed": true
   },
   "outputs": [],
   "source": [
    "X_test_not_empty = [test_X[idx] for idx in range(len(test_X)) if test_y[idx]]\n",
    "y_test_not_empty = [test_y[idx] for idx in range(len(test_y)) if test_y[idx]]"
   ]
  },
  {
   "cell_type": "code",
   "execution_count": 11,
   "metadata": {
    "collapsed": false
   },
   "outputs": [],
   "source": [
    "def sort_key(counter):\n",
    "    def _key(x):\n",
    "        return counter.get(x, 0)\n",
    "    return _key\n",
    "\n",
    "top_watched_train = [unique(sorted(session, key=sort_key(watched_counter), reverse=True)) for session in X_train_not_empty]\n",
    "top_bought_train = [unique(sorted(session, key=sort_key(bought_counter), reverse=True)) for session in X_train_not_empty]"
   ]
  },
  {
   "cell_type": "code",
   "execution_count": 12,
   "metadata": {
    "collapsed": false
   },
   "outputs": [],
   "source": [
    "from itertools import cycle\n",
    "\n",
    "def get_metric(y_pred, y_true, metric, k):\n",
    "    sample_wise_metric = map(metric, y_pred, y_true, cycle([k]))\n",
    "    return np.mean(list(sample_wise_metric))"
   ]
  },
  {
   "cell_type": "code",
   "execution_count": 13,
   "metadata": {
    "collapsed": true
   },
   "outputs": [],
   "source": [
    "def get_metrics_values(y_pred, y_true, file):\n",
    "    with open(file, 'w') as fp:\n",
    "        for k in [1, 5]:\n",
    "            for metric in [recall, precision]:\n",
    "                fp.write(str(round(get_metric(y_pred, y_true, metric, k), 2)) + ' ')"
   ]
  },
  {
   "cell_type": "code",
   "execution_count": 14,
   "metadata": {
    "collapsed": false
   },
   "outputs": [],
   "source": [
    "get_metrics_values(top_watched_train, y_train_not_empty, 'ans1.txt')"
   ]
  },
  {
   "cell_type": "code",
   "execution_count": 15,
   "metadata": {
    "collapsed": false
   },
   "outputs": [],
   "source": [
    "get_metrics_values(top_bought_train, y_train_not_empty, 'ans3.txt')"
   ]
  },
  {
   "cell_type": "code",
   "execution_count": 16,
   "metadata": {
    "collapsed": true
   },
   "outputs": [],
   "source": [
    "top_watched_test = [unique(sorted(session, key=sort_key(watched_counter), reverse=True)) for session in X_test_not_empty]\n",
    "top_bought_test = [unique(sorted(session, key=sort_key(bought_counter), reverse=True)) for session in X_test_not_empty]"
   ]
  },
  {
   "cell_type": "code",
   "execution_count": 17,
   "metadata": {
    "collapsed": false
   },
   "outputs": [],
   "source": [
    "get_metrics_values(top_watched_test, y_test_not_empty, 'ans2.txt')"
   ]
  },
  {
   "cell_type": "code",
   "execution_count": 18,
   "metadata": {
    "collapsed": false
   },
   "outputs": [],
   "source": [
    "get_metrics_values(top_bought_test, y_test_not_empty, 'ans4.txt')"
   ]
  },
  {
   "cell_type": "code",
   "execution_count": null,
   "metadata": {
    "collapsed": true
   },
   "outputs": [],
   "source": []
  }
 ],
 "metadata": {
  "kernelspec": {
   "display_name": "Python 3",
   "language": "python",
   "name": "python3"
  },
  "language_info": {
   "codemirror_mode": {
    "name": "ipython",
    "version": 3
   },
   "file_extension": ".py",
   "mimetype": "text/x-python",
   "name": "python",
   "nbconvert_exporter": "python",
   "pygments_lexer": "ipython3",
   "version": "3.6.0"
  }
 },
 "nbformat": 4,
 "nbformat_minor": 2
}
