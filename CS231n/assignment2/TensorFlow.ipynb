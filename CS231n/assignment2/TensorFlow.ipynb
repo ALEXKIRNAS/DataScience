{
 "cells": [
  {
   "cell_type": "markdown",
   "metadata": {},
   "source": [
    "## What's this TensorFlow business?\n",
    "\n",
    "You've written a lot of code in this assignment to provide a whole host of neural network functionality. Dropout, Batch Norm, and 2D convolutions are some of the workhorses of deep learning in computer vision. You've also worked hard to make your code efficient and vectorized.\n",
    "\n",
    "For the last part of this assignment, though, we're going to leave behind your beautiful codebase and instead migrate to one of two popular deep learning frameworks: in this instance, TensorFlow (or PyTorch, if you switch over to that notebook)\n",
    "\n",
    "#### What is it?\n",
    "TensorFlow is a system for executing computational graphs over Tensor objects, with native support for performing backpropogation for its Variables. In it, we work with Tensors which are n-dimensional arrays analogous to the numpy ndarray.\n",
    "\n",
    "#### Why?\n",
    "\n",
    "* Our code will now run on GPUs! Much faster training. Writing your own modules to run on GPUs is beyond the scope of this class, unfortunately.\n",
    "* We want you to be ready to use one of these frameworks for your project so you can experiment more efficiently than if you were writing every feature you want to use by hand. \n",
    "* We want you to stand on the shoulders of giants! TensorFlow and PyTorch are both excellent frameworks that will make your lives a lot easier, and now that you understand their guts, you are free to use them :) \n",
    "* We want you to be exposed to the sort of deep learning code you might run into in academia or industry. "
   ]
  },
  {
   "cell_type": "markdown",
   "metadata": {},
   "source": [
    "## How will I learn TensorFlow?\n",
    "\n",
    "TensorFlow has many excellent tutorials available, including those from [Google themselves](https://www.tensorflow.org/get_started/get_started).\n",
    "\n",
    "Otherwise, this notebook will walk you through much of what you need to do to train models in TensorFlow. See the end of the notebook for some links to helpful tutorials if you want to learn more or need further clarification on topics that aren't fully explained here."
   ]
  },
  {
   "cell_type": "markdown",
   "metadata": {},
   "source": [
    "## Load Datasets\n"
   ]
  },
  {
   "cell_type": "code",
   "execution_count": 1,
   "metadata": {},
   "outputs": [
    {
     "name": "stderr",
     "output_type": "stream",
     "text": [
      "/home/azarichkovyi/Projects/DataScience/CS231n/assignment2/env/lib/python3.6/importlib/_bootstrap.py:219: RuntimeWarning: compiletime version 3.5 of module 'tensorflow.python.framework.fast_tensor_util' does not match runtime version 3.6\n",
      "  return f(*args, **kwds)\n"
     ]
    }
   ],
   "source": [
    "import tensorflow as tf\n",
    "import numpy as np\n",
    "import math\n",
    "import timeit\n",
    "import matplotlib.pyplot as plt\n",
    "%matplotlib inline"
   ]
  },
  {
   "cell_type": "code",
   "execution_count": 2,
   "metadata": {},
   "outputs": [
    {
     "name": "stdout",
     "output_type": "stream",
     "text": [
      "Train data shape:  (49000, 32, 32, 3)\n",
      "Train labels shape:  (49000,)\n",
      "Validation data shape:  (1000, 32, 32, 3)\n",
      "Validation labels shape:  (1000,)\n",
      "Test data shape:  (10000, 32, 32, 3)\n",
      "Test labels shape:  (10000,)\n"
     ]
    }
   ],
   "source": [
    "from cs231n.data_utils import load_CIFAR10\n",
    "\n",
    "def get_CIFAR10_data(num_training=49000, num_validation=1000, num_test=10000):\n",
    "    \"\"\"\n",
    "    Load the CIFAR-10 dataset from disk and perform preprocessing to prepare\n",
    "    it for the two-layer neural net classifier. These are the same steps as\n",
    "    we used for the SVM, but condensed to a single function.  \n",
    "    \"\"\"\n",
    "    # Load the raw CIFAR-10 data\n",
    "    cifar10_dir = 'cs231n/datasets/cifar-10-batches-py'\n",
    "    X_train, y_train, X_test, y_test = load_CIFAR10(cifar10_dir)\n",
    "\n",
    "    # Subsample the data\n",
    "    mask = range(num_training, num_training + num_validation)\n",
    "    X_val = X_train[mask]\n",
    "    y_val = y_train[mask]\n",
    "    mask = range(num_training)\n",
    "    X_train = X_train[mask]\n",
    "    y_train = y_train[mask]\n",
    "    mask = range(num_test)\n",
    "    X_test = X_test[mask]\n",
    "    y_test = y_test[mask]\n",
    "\n",
    "    # Normalize the data: subtract the mean image\n",
    "    mean_image = np.mean(X_train, axis=0)\n",
    "    X_train -= mean_image\n",
    "    X_val -= mean_image\n",
    "    X_test -= mean_image\n",
    "\n",
    "    return X_train, y_train, X_val, y_val, X_test, y_test\n",
    "\n",
    "\n",
    "# Invoke the above function to get our data.\n",
    "X_train, y_train, X_val, y_val, X_test, y_test = get_CIFAR10_data()\n",
    "print('Train data shape: ', X_train.shape)\n",
    "print('Train labels shape: ', y_train.shape)\n",
    "print('Validation data shape: ', X_val.shape)\n",
    "print('Validation labels shape: ', y_val.shape)\n",
    "print('Test data shape: ', X_test.shape)\n",
    "print('Test labels shape: ', y_test.shape)"
   ]
  },
  {
   "cell_type": "markdown",
   "metadata": {},
   "source": [
    "## Example Model\n",
    "\n",
    "### Some useful utilities\n",
    "\n",
    ". Remember that our image data is initially N x H x W x C, where:\n",
    "* N is the number of datapoints\n",
    "* H is the height of each image in pixels\n",
    "* W is the height of each image in pixels\n",
    "* C is the number of channels (usually 3: R, G, B)\n",
    "\n",
    "This is the right way to represent the data when we are doing something like a 2D convolution, which needs spatial understanding of where the pixels are relative to each other. When we input image data into fully connected affine layers, however, we want each data example to be represented by a single vector -- it's no longer useful to segregate the different channels, rows, and columns of the data."
   ]
  },
  {
   "cell_type": "markdown",
   "metadata": {},
   "source": [
    "### The example model itself\n",
    "\n",
    "The first step to training your own model is defining its architecture.\n",
    "\n",
    "Here's an example of a convolutional neural network defined in TensorFlow -- try to understand what each line is doing, remembering that each layer is composed upon the previous layer. We haven't trained anything yet - that'll come next - for now, we want you to understand how everything gets set up. \n",
    "\n",
    "In that example, you see 2D convolutional layers (Conv2d), ReLU activations, and fully-connected layers (Linear). You also see the Hinge loss function, and the Adam optimizer being used. \n",
    "\n",
    "Make sure you understand why the parameters of the Linear layer are 5408 and 10.\n",
    "\n",
    "### TensorFlow Details\n",
    "In TensorFlow, much like in our previous notebooks, we'll first specifically initialize our variables, and then our network model."
   ]
  },
  {
   "cell_type": "code",
   "execution_count": 3,
   "metadata": {},
   "outputs": [],
   "source": [
    "# clear old variables\n",
    "tf.reset_default_graph()\n",
    "\n",
    "# setup input (e.g. the data that changes every batch)\n",
    "# The first dim is None, and gets sets automatically based on batch size fed in\n",
    "X = tf.placeholder(tf.float32, [None, 32, 32, 3])\n",
    "y = tf.placeholder(tf.int64, [None])\n",
    "is_training = tf.placeholder(tf.bool)\n",
    "\n",
    "def simple_model(X,y):\n",
    "    # define our weights (e.g. init_two_layer_convnet)\n",
    "    \n",
    "    # setup variables\n",
    "    Wconv1 = tf.get_variable(\"Wconv1\", shape=[7, 7, 3, 32])\n",
    "    bconv1 = tf.get_variable(\"bconv1\", shape=[32])\n",
    "    W1 = tf.get_variable(\"W1\", shape=[5408, 10])\n",
    "    b1 = tf.get_variable(\"b1\", shape=[10])\n",
    "\n",
    "    # define our graph (e.g. two_layer_convnet)\n",
    "    a1 = tf.nn.conv2d(X, Wconv1, strides=[1,2,2,1], padding='VALID') + bconv1\n",
    "    h1 = tf.nn.relu(a1)\n",
    "    h1_flat = tf.reshape(h1, [-1, 5408])\n",
    "    y_out = tf.matmul(h1_flat, W1) + b1\n",
    "    return y_out\n",
    "\n",
    "y_out = simple_model(X, y)\n",
    "\n",
    "# define our loss\n",
    "total_loss = tf.losses.hinge_loss(tf.one_hot(y, 10), logits=y_out)\n",
    "mean_loss = tf.reduce_mean(total_loss)\n",
    "\n",
    "# define our optimizer\n",
    "optimizer = tf.train.AdamOptimizer(5e-4) # select optimizer and set learning rate\n",
    "train_step = optimizer.minimize(mean_loss)"
   ]
  },
  {
   "cell_type": "markdown",
   "metadata": {},
   "source": [
    "TensorFlow supports many other layer types, loss functions, and optimizers - you will experiment with these next. Here's the official API documentation for these (if any of the parameters used above were unclear, this resource will also be helpful). \n",
    "\n",
    "* Layers, Activations, Loss functions : https://www.tensorflow.org/api_guides/python/nn\n",
    "* Optimizers: https://www.tensorflow.org/api_guides/python/train#Optimizers\n",
    "* BatchNorm: https://www.tensorflow.org/api_docs/python/tf/layers/batch_normalization"
   ]
  },
  {
   "cell_type": "markdown",
   "metadata": {},
   "source": [
    "### Training the model on one epoch\n",
    "While we have defined a graph of operations above, in order to execute TensorFlow Graphs, by feeding them input data and computing the results, we first need to create a `tf.Session` object. A session encapsulates the control and state of the TensorFlow runtime. For more information, see the TensorFlow [Getting started](https://www.tensorflow.org/get_started/get_started) guide.\n",
    "\n",
    "Optionally we can also specify a device context such as `/cpu:0` or `/gpu:0`. For documentation on this behavior see [this TensorFlow guide](https://www.tensorflow.org/tutorials/using_gpu)\n",
    "\n",
    "You should see a validation loss of around 0.4 to 0.6 and an accuracy of 0.30 to 0.35 below"
   ]
  },
  {
   "cell_type": "code",
   "execution_count": 4,
   "metadata": {},
   "outputs": [
    {
     "name": "stdout",
     "output_type": "stream",
     "text": [
      "Training\n",
      "Iteration 0: with minibatch training loss = 10.1 and accuracy of 0.12\n",
      "Iteration 100: with minibatch training loss = 1.07 and accuracy of 0.25\n",
      "Iteration 200: with minibatch training loss = 1.04 and accuracy of 0.16\n",
      "Iteration 300: with minibatch training loss = 0.693 and accuracy of 0.27\n",
      "Iteration 400: with minibatch training loss = 0.537 and accuracy of 0.28\n",
      "Iteration 500: with minibatch training loss = 0.498 and accuracy of 0.36\n",
      "Iteration 600: with minibatch training loss = 0.407 and accuracy of 0.44\n",
      "Iteration 700: with minibatch training loss = 0.493 and accuracy of 0.38\n",
      "Epoch 1, Overall loss = 0.76 and accuracy of 0.309\n"
     ]
    },
    {
     "data": {
      "image/png": "[encoded data removed]",
      "text/plain": [
       "<matplotlib.figure.Figure at 0x7efd62651cc0>"
      ]
     },
     "metadata": {},
     "output_type": "display_data"
    },
    {
     "name": "stdout",
     "output_type": "stream",
     "text": [
      "Validation\n",
      "Epoch 1, Overall loss = 0.402 and accuracy of 0.379\n"
     ]
    }
   ],
   "source": [
    "def run_model(session, predict, loss_val, Xd, yd,\n",
    "              epochs=1, batch_size=64, print_every=100,\n",
    "              training=None, plot_losses=False):\n",
    "    \n",
    "    # have tensorflow compute accuracy\n",
    "    correct_prediction = tf.equal(tf.argmax(predict, axis=1), y)\n",
    "    accuracy = tf.reduce_mean(tf.cast(correct_prediction, tf.float32))\n",
    "    \n",
    "    # shuffle indicies\n",
    "    train_indicies = np.arange(Xd.shape[0])\n",
    "    np.random.shuffle(train_indicies)\n",
    "\n",
    "    training_now = training is not None\n",
    "    \n",
    "    # setting up variables we want to compute (and optimizing)\n",
    "    # if we have a training function, add that to things we compute\n",
    "    variables = [mean_loss, correct_prediction, accuracy]\n",
    "    if training_now:\n",
    "        variables[-1] = training\n",
    "    \n",
    "    # counter \n",
    "    iter_cnt = 0\n",
    "    for e in range(epochs):\n",
    "        # keep track of losses and accuracy\n",
    "        correct = 0\n",
    "        losses = []\n",
    "        # make sure we iterate over the dataset once\n",
    "        for i in range(Xd.shape[0] // batch_size):\n",
    "            # generate indicies for the batch\n",
    "            start_idx = (i * batch_size) % Xd.shape[0]\n",
    "            idx = train_indicies[start_idx:start_idx + batch_size]\n",
    "            \n",
    "            # create a feed dictionary for this batch\n",
    "            feed_dict = {\n",
    "                X: Xd[idx,:],\n",
    "                y: yd[idx],\n",
    "                is_training: training_now,\n",
    "            }\n",
    "            \n",
    "            # get batch size\n",
    "            actual_batch_size = yd[idx].shape[0]\n",
    "            \n",
    "            # have tensorflow compute loss and correct predictions\n",
    "            # and (if given) perform a training step\n",
    "            loss, corr, _ = session.run(variables, feed_dict=feed_dict)\n",
    "            \n",
    "            # aggregate performance stats\n",
    "            losses.append(loss * actual_batch_size)\n",
    "            correct += np.sum(corr)\n",
    "            \n",
    "            # print every now and then\n",
    "            if training_now and (iter_cnt % print_every) == 0:\n",
    "                print(\"Iteration {0}: with minibatch training loss = {1:.3g} and accuracy of {2:.2g}\"\\\n",
    "                      .format(iter_cnt,loss,np.sum(corr)/actual_batch_size))\n",
    "            \n",
    "            iter_cnt += 1\n",
    "            \n",
    "        total_correct = correct / Xd.shape[0]\n",
    "        total_loss = np.sum(losses) / Xd.shape[0]\n",
    "        print(\"Epoch {2}, Overall loss = {0:.3g} and accuracy of {1:.3g}\"\\\n",
    "              .format(total_loss,total_correct,e+1))\n",
    "        \n",
    "        if plot_losses:\n",
    "            plt.plot(losses)\n",
    "            plt.grid(True)\n",
    "            plt.title('Epoch {} Loss'.format(e+1))\n",
    "            plt.xlabel('minibatch number')\n",
    "            plt.ylabel('minibatch loss')\n",
    "            plt.show()\n",
    "            \n",
    "    return total_loss,total_correct\n",
    "\n",
    "with tf.Session() as sess:\n",
    "    with tf.device(\"/cpu:0\"): #\"/cpu:0\" or \"/gpu:0\" \n",
    "        sess.run(tf.global_variables_initializer())\n",
    "        print('Training')\n",
    "        run_model(sess, y_out, mean_loss, X_train, y_train, 1, 64, 100, train_step, True)\n",
    "        print('Validation')\n",
    "        run_model(sess, y_out, mean_loss, X_val, y_val, 1, 64)"
   ]
  },
  {
   "cell_type": "markdown",
   "metadata": {},
   "source": [
    "## Training a specific model\n",
    "\n",
    "In this section, we're going to specify a model for you to construct. The goal here isn't to get good performance (that'll be next), but instead to get comfortable with understanding the TensorFlow documentation and configuring your own model. \n",
    "\n",
    "Using the code provided above as guidance, and using the following TensorFlow documentation, specify a model with the following architecture:\n",
    "\n",
    "* 7x7 Convolutional Layer with 32 filters and stride of 1\n",
    "* ReLU Activation Layer\n",
    "* Spatial Batch Normalization Layer (trainable parameters, with scale and centering)\n",
    "* 2x2 Max Pooling layer with a stride of 2\n",
    "* Affine layer with 1024 output units\n",
    "* ReLU Activation Layer\n",
    "* Affine layer from 1024 input units to 10 outputs\n",
    "\n"
   ]
  },
  {
   "cell_type": "code",
   "execution_count": 6,
   "metadata": {},
   "outputs": [],
   "source": [
    "# clear old variables\n",
    "tf.reset_default_graph()\n",
    "\n",
    "# define our input (e.g. the data that changes every batch)\n",
    "# The first dim is None, and gets sets automatically based on batch size fed in\n",
    "X = tf.placeholder(tf.float32, [None, 32, 32, 3])\n",
    "y = tf.placeholder(tf.int64, [None])\n",
    "is_training = tf.placeholder(tf.bool)\n",
    "\n",
    "# define model\n",
    "def complex_model(X,y,is_training):\n",
    "    # setup variables\n",
    "    Wconv1 = tf.get_variable(\"Wconv1\", shape=[7, 7, 3, 32])\n",
    "    bconv1 = tf.get_variable(\"bconv1\", shape=[32])\n",
    "    \n",
    "    W1 = tf.get_variable(\"W1\", shape=[8192, 1024])\n",
    "    b1 = tf.get_variable(\"b1\", shape=[1024])\n",
    "    W2 = tf.get_variable(\"W2\", shape=[1024, 10])\n",
    "    b2 = tf.get_variable(\"b2\", shape=[10])\n",
    "\n",
    "    # define our graph (e.g. two_layer_convnet)\n",
    "    a1 = tf.nn.conv2d(X, Wconv1, strides=[1, 1, 1, 1], padding='SAME') + bconv1\n",
    "    h1 = tf.nn.relu(a1)\n",
    "    h1_normalized = tf.layers.batch_normalization(h1)\n",
    "    h1_pooled = tf.layers.MaxPooling2D(pool_size=2,\n",
    "                                       strides=2,\n",
    "                                       padding='VALID')(h1_normalized)\n",
    "    h1_flat = tf.reshape(h1_pooled, [-1, 8192])\n",
    "    a2 = tf.matmul(h1_flat, W1) + b1\n",
    "    h2 = tf.nn.relu(a2)\n",
    "    y_out = tf.matmul(h2, W2) + b2\n",
    "    return y_out\n",
    "\n",
    "y_out = complex_model(X, y, is_training)"
   ]
  },
  {
   "cell_type": "markdown",
   "metadata": {},
   "source": [
    "To make sure you're doing the right thing, use the following tool to check the dimensionality of your output (it should be 64 x 10, since our batches have size 64 and the output of the final affine layer should be 10, corresponding to our 10 classes):"
   ]
  },
  {
   "cell_type": "code",
   "execution_count": 7,
   "metadata": {},
   "outputs": [
    {
     "name": "stdout",
     "output_type": "stream",
     "text": [
      "1.75 ms ± 138 µs per loop (mean ± std. dev. of 7 runs, 1000 loops each)\n",
      "(64, 10)\n",
      "True\n"
     ]
    }
   ],
   "source": [
    "# Now we're going to feed a random batch into the model \n",
    "# and make sure the output is the right size\n",
    "x = np.random.randn(64, 32, 32, 3)\n",
    "with tf.Session() as sess:\n",
    "    with tf.device(\"/cpu:0\"): #\"/cpu:0\" or \"/gpu:0\"\n",
    "        tf.global_variables_initializer().run()\n",
    "\n",
    "        ans = sess.run(y_out,feed_dict={X:x,is_training:True})\n",
    "        %timeit sess.run(y_out,feed_dict={X:x,is_training:True})\n",
    "        print(ans.shape)\n",
    "        print(np.array_equal(ans.shape, np.array([64, 10])))"
   ]
  },
  {
   "cell_type": "markdown",
   "metadata": {},
   "source": [
    "You should see the following from the run above \n",
    "\n",
    "`(64, 10)`\n",
    "\n",
    "`True`"
   ]
  },
  {
   "cell_type": "markdown",
   "metadata": {},
   "source": [
    "### GPU!\n",
    "\n",
    "Now, we're going to try and start the model under the GPU device, the rest of the code stays unchanged and all our variables and operations will be computed using accelerated code paths. However, if there is no GPU, we get a Python exception and have to rebuild our graph. On a dual-core CPU, you might see around 50-80ms/batch running the above, while the Google Cloud GPUs (run below) should be around 2-5ms/batch."
   ]
  },
  {
   "cell_type": "code",
   "execution_count": 8,
   "metadata": {},
   "outputs": [
    {
     "name": "stdout",
     "output_type": "stream",
     "text": [
      "1.71 ms ± 97 µs per loop (mean ± std. dev. of 7 runs, 1000 loops each)\n"
     ]
    }
   ],
   "source": [
    "try:\n",
    "    with tf.Session() as sess:\n",
    "        with tf.device(\"/gpu:0\") as dev: #\"/cpu:0\" or \"/gpu:0\"\n",
    "            tf.global_variables_initializer().run()\n",
    "\n",
    "            ans = sess.run(y_out,feed_dict={X:x,is_training:True})\n",
    "            %timeit sess.run(y_out,feed_dict={X:x,is_training:True})\n",
    "except tf.errors.InvalidArgumentError:\n",
    "    print(\"no gpu found, please use Google Cloud if you want GPU acceleration\")    \n",
    "    # rebuild the graph\n",
    "    # trying to start a GPU throws an exception \n",
    "    # and also trashes the original graph\n",
    "    tf.reset_default_graph()\n",
    "    X = tf.placeholder(tf.float32, [None, 32, 32, 3])\n",
    "    y = tf.placeholder(tf.int64, [None])\n",
    "    is_training = tf.placeholder(tf.bool)\n",
    "    y_out = complex_model(X,y,is_training)"
   ]
  },
  {
   "cell_type": "markdown",
   "metadata": {},
   "source": [
    "You should observe that even a simple forward pass like this is significantly faster on the GPU. So for the rest of the assignment (and when you go train your models in assignment 3 and your project!), you should use GPU devices. However, with TensorFlow, the default device is a GPU if one is available, and a CPU otherwise, so we can skip the device specification from now on."
   ]
  },
  {
   "cell_type": "markdown",
   "metadata": {},
   "source": [
    "### Train the model.\n",
    "\n",
    "Now that you've seen how to define a model and do a single forward pass of some data through it, let's  walk through how you'd actually train one whole epoch over your training data (using the complex_model you created provided above).\n",
    "\n",
    "Make sure you understand how each TensorFlow function used below corresponds to what you implemented in your custom neural network implementation.\n",
    "\n",
    "First, set up an **RMSprop optimizer** (using a 1e-3 learning rate) and a **cross-entropy loss** function. See the TensorFlow documentation for more information\n",
    "* Layers, Activations, Loss functions : https://www.tensorflow.org/api_guides/python/nn\n",
    "* Optimizers: https://www.tensorflow.org/api_guides/python/train#Optimizers"
   ]
  },
  {
   "cell_type": "code",
   "execution_count": 13,
   "metadata": {},
   "outputs": [],
   "source": [
    "# Inputs\n",
    "#     y_out: is what your model computes\n",
    "#     y: is your TensorFlow variable with label information\n",
    "# Outputs\n",
    "#    mean_loss: a TensorFlow variable (scalar) with numerical loss\n",
    "#    optimizer: a TensorFlow optimizer\n",
    "# This should be ~3 lines of code!\n",
    "\n",
    "total_loss = tf.losses.softmax_cross_entropy(tf.one_hot(y, 10), logits=y_out)\n",
    "mean_loss = tf.reduce_mean(total_loss)\n",
    "optimizer = tf.train.RMSPropOptimizer(1e-3)"
   ]
  },
  {
   "cell_type": "code",
   "execution_count": 14,
   "metadata": {},
   "outputs": [],
   "source": [
    "# batch normalization in tensorflow requires this extra dependency\n",
    "extra_update_ops = tf.get_collection(tf.GraphKeys.UPDATE_OPS)\n",
    "with tf.control_dependencies(extra_update_ops):\n",
    "    train_step = optimizer.minimize(mean_loss)"
   ]
  },
  {
   "cell_type": "markdown",
   "metadata": {},
   "source": [
    "### Train the model\n",
    "Below we'll create a session and train the model over one epoch. You should see a loss of 1.4 to 2.0 and an accuracy of 0.4 to 0.5. There will be some variation due to random seeds and differences in initialization"
   ]
  },
  {
   "cell_type": "code",
   "execution_count": 15,
   "metadata": {},
   "outputs": [
    {
     "name": "stdout",
     "output_type": "stream",
     "text": [
      "Training\n",
      "Iteration 0: with minibatch training loss = 43.3 and accuracy of 0.078\n",
      "Iteration 100: with minibatch training loss = 40.6 and accuracy of 0.094\n",
      "Iteration 200: with minibatch training loss = 3.83 and accuracy of 0.17\n",
      "Iteration 300: with minibatch training loss = 3.54 and accuracy of 0.12\n",
      "Iteration 400: with minibatch training loss = 2.06 and accuracy of 0.22\n",
      "Iteration 500: with minibatch training loss = 1.87 and accuracy of 0.2\n",
      "Iteration 600: with minibatch training loss = 1.87 and accuracy of 0.28\n",
      "Iteration 700: with minibatch training loss = 1.53 and accuracy of 0.45\n",
      "Epoch 1, Overall loss = 5.08 and accuracy of 0.232\n"
     ]
    },
    {
     "data": {
      "text/plain": [
       "(5.082165824423031, 0.23151020408163264)"
      ]
     },
     "execution_count": 15,
     "metadata": {},
     "output_type": "execute_result"
    }
   ],
   "source": [
    "sess = tf.Session()\n",
    "\n",
    "sess.run(tf.global_variables_initializer())\n",
    "print('Training')\n",
    "run_model(sess, y_out, mean_loss, X_train, y_train, 1, 64, 100, train_step)"
   ]
  },
  {
   "cell_type": "markdown",
   "metadata": {},
   "source": [
    "### Check the accuracy of the model.\n",
    "\n",
    "Let's see the train and test code in action -- feel free to use these methods when evaluating the models you develop below. You should see a loss of 1.3 to 2.0 with an accuracy of 0.45 to 0.55."
   ]
  },
  {
   "cell_type": "code",
   "execution_count": 16,
   "metadata": {},
   "outputs": [
    {
     "name": "stdout",
     "output_type": "stream",
     "text": [
      "Validation\n",
      "Epoch 1, Overall loss = 1.6 and accuracy of 0.359\n"
     ]
    },
    {
     "data": {
      "text/plain": [
       "(1.6041404724121093, 0.35899999999999999)"
      ]
     },
     "execution_count": 16,
     "metadata": {},
     "output_type": "execute_result"
    }
   ],
   "source": [
    "print('Validation')\n",
    "run_model(sess, y_out, mean_loss, X_val, y_val, 1, 64)"
   ]
  },
  {
   "cell_type": "markdown",
   "metadata": {},
   "source": [
    "## Train a _great_ model on CIFAR-10!\n",
    "\n",
    "Now it's your job to experiment with architectures, hyperparameters, loss functions, and optimizers to train a model that achieves ** >= 70% accuracy on the validation set** of CIFAR-10. You can use the `run_model` function from above."
   ]
  },
  {
   "cell_type": "markdown",
   "metadata": {},
   "source": [
    "### Things you should try:\n",
    "- **Filter size**: Above we used 7x7; this makes pretty pictures but smaller filters may be more efficient\n",
    "- **Number of filters**: Above we used 32 filters. Do more or fewer do better?\n",
    "- **Pooling vs Strided Convolution**: Do you use max pooling or just stride convolutions?\n",
    "- **Batch normalization**: Try adding spatial batch normalization after convolution layers and vanilla batch normalization after affine layers. Do your networks train faster?\n",
    "- **Network architecture**: The network above has two layers of trainable parameters. Can you do better with a deep network? Good architectures to try include:\n",
    "    - [conv-relu-pool]xN -> [affine]xM -> [softmax or SVM]\n",
    "    - [conv-relu-conv-relu-pool]xN -> [affine]xM -> [softmax or SVM]\n",
    "    - [batchnorm-relu-conv]xN -> [affine]xM -> [softmax or SVM]\n",
    "- **Use TensorFlow Scope**: Use TensorFlow scope and/or [tf.layers](https://www.tensorflow.org/api_docs/python/tf/layers) to make it easier to write deeper networks. See [this tutorial](https://www.tensorflow.org/tutorials/layers) for how to use `tf.layers`. \n",
    "- **Use Learning Rate Decay**: [As the notes point out](http://cs231n.github.io/neural-networks-3/#anneal), decaying the learning rate might help the model converge. Feel free to decay every epoch, when loss doesn't change over an entire epoch, or any other heuristic you find appropriate. See the [Tensorflow documentation](https://www.tensorflow.org/versions/master/api_guides/python/train#Decaying_the_learning_rate) for learning rate decay.\n",
    "- **Global Average Pooling**: Instead of flattening and then having multiple affine layers, perform convolutions until your image gets small (7x7 or so) and then perform an average pooling operation to get to a 1x1 image picture (1, 1 , Filter#), which is then reshaped into a (Filter#) vector. This is used in [Google's Inception Network](https://arxiv.org/abs/1512.00567) (See Table 1 for their architecture).\n",
    "- **Regularization**: Add l2 weight regularization, or perhaps use [Dropout as in the TensorFlow MNIST tutorial](https://www.tensorflow.org/get_started/mnist/pros)\n",
    "\n",
    "### Tips for training\n",
    "For each network architecture that you try, you should tune the learning rate and regularization strength. When doing this there are a couple important things to keep in mind:\n",
    "\n",
    "- If the parameters are working well, you should see improvement within a few hundred iterations\n",
    "- Remember the coarse-to-fine approach for hyperparameter tuning: start by testing a large range of hyperparameters for just a few training iterations to find the combinations of parameters that are working at all.\n",
    "- Once you have found some sets of parameters that seem to work, search more finely around these parameters. You may need to train for more epochs.\n",
    "- You should use the validation set for hyperparameter search, and we'll save the test set for evaluating your architecture on the best parameters as selected by the validation set.\n",
    "\n",
    "### Going above and beyond\n",
    "If you are feeling adventurous there are many other features you can implement to try and improve your performance. You are **not required** to implement any of these; however they would be good things to try for extra credit.\n",
    "\n",
    "- Alternative update steps: For the assignment we implemented SGD+momentum, RMSprop, and Adam; you could try alternatives like AdaGrad or AdaDelta.\n",
    "- Alternative activation functions such as leaky ReLU, parametric ReLU, ELU, or MaxOut.\n",
    "- Model ensembles\n",
    "- Data augmentation\n",
    "- New Architectures\n",
    "  - [ResNets](https://arxiv.org/abs/1512.03385) where the input from the previous layer is added to the output.\n",
    "  - [DenseNets](https://arxiv.org/abs/1608.06993) where inputs into previous layers are concatenated together.\n",
    "  - [This blog has an in-depth overview](https://chatbotslife.com/resnets-highwaynets-and-densenets-oh-my-9bb15918ee32)\n",
    "\n",
    "If you do decide to implement something extra, clearly describe it in the \"Extra Credit Description\" cell below.\n",
    "\n",
    "### What we expect\n",
    "At the very least, you should be able to train a ConvNet that gets at **>= 70% accuracy on the validation set**. This is just a lower bound - if you are careful it should be possible to get accuracies much higher than that! Extra credit points will be awarded for particularly high-scoring models or unique approaches.\n",
    "\n",
    "You should use the space below to experiment and train your network. The final cell in this notebook should contain the training and validation set accuracies for your final trained network.\n",
    "\n",
    "Have fun and happy training!"
   ]
  },
  {
   "cell_type": "code",
   "execution_count": 109,
   "metadata": {},
   "outputs": [],
   "source": [
    "# Feel free to play with this cell\n",
    "def conv_relu_bn(X, filters_shape, stride, scope_name, regulizers):\n",
    "    \"\"\"\n",
    "    Define block of layers\n",
    "    Conv2d - BN - Leaky-ReLU\n",
    "    \n",
    "    Args:\n",
    "       X(tf.tensor): input tensor (N, H, W, F)\n",
    "       filters_shape(tuple): filtes shapes (H, W, filters_num)\n",
    "       stride(int): strides for convolution\n",
    "       scope_name(str): prefix for scope name\n",
    "       regulizers(list): list of tf.tensors regulizers \n",
    "       \n",
    "    Returns:\n",
    "       out(tf.tensor):  output tensor(N, H, W, filters_num)\n",
    "    \"\"\"\n",
    "    _, H, W, F = X.shape\n",
    "    filter_H, filter_W, filters_num = filters_shape\n",
    "    \n",
    "    conv_weights = tf.get_variable(scope_name + '/conv_weights', shape=[filter_H, filter_W, F, filters_num])\n",
    "    conv_bias = tf.get_variable(scope_name + '/bias_weights', shape=[filters_num])\n",
    "    \n",
    "    activation = tf.nn.conv2d(X, \n",
    "                              conv_weights, \n",
    "                              strides=[1, stride, stride, 1], \n",
    "                              padding='SAME')\n",
    "    activation += conv_bias\n",
    "    activation_normilized = tf.layers.batch_normalization(activation)\n",
    "    out = tf.nn.leaky_relu(activation_normilized, alpha=0.4) \n",
    "    regulizers.append(tf.nn.l2_loss(conv_weights))\n",
    "    \n",
    "    return out\n",
    "\n",
    "\n",
    "def resnext_block(X, branch_num, scope_name, regulizers):\n",
    "    \"\"\"\n",
    "    Define ResNeXt network block\n",
    "    \n",
    "    Args:\n",
    "        X(tf.tensor): 4-D tensor (N, H, W, F) where \n",
    "                      N - batch size, F - filter number\n",
    "        branch_num(int): numbers of branches\n",
    "        scope_name(str): name of scope\n",
    "        regulizers(list): list of tf.tensors regulizers \n",
    "        \n",
    "    Returns: \n",
    "        out(tf.tensor): 4-D tensor (N, H, W, F)\n",
    "    \"\"\"\n",
    "    \n",
    "    _, H, W, F = X.shape\n",
    "    \n",
    "    assert F % branch_num, 'Number of filters in inception block must divide by branch_num'\n",
    "    \n",
    "    scope_name = scope_name + '/branch_%d/conv_%d'\n",
    "    branch_filt = F // branch_num\n",
    "    \n",
    "    conv1 = [conv_relu_bn(X, (1, 1, branch_filt), 1, scope_name % (idx, 1), regulizers) \n",
    "             for idx in range(branch_num)]\n",
    "    \n",
    "    conv2 = [conv_relu_bn(conv1[idx], (3, 3, branch_filt), 1, scope_name % (idx, 2), regulizers) \n",
    "             for idx in range(branch_num)]\n",
    "    \n",
    "    conv3 = [conv_relu_bn(conv2[idx], (1, 1, F), 1, scope_name % (idx, 3), regulizers) \n",
    "             for idx in range(branch_num)]\n",
    "    \n",
    "    combined_convs = tf.add_n(conv3)\n",
    "    \n",
    "    out = combined_convs + X\n",
    "    \n",
    "    return out\n",
    "\n",
    "    \n",
    "def my_model(X, y, is_training):\n",
    "    regulizers = []\n",
    "    \n",
    "    x = X\n",
    "    x = conv_relu_bn(X, filters_shape=[3, 3, 64], \n",
    "                     stride=1, scope_name='conv1', \n",
    "                     regulizers=regulizers)\n",
    "    \n",
    "    x = resnext_block(x, branch_num=4, \n",
    "                      scope_name='resnext_1', \n",
    "                      regulizers=regulizers)\n",
    "    \n",
    "    x = conv_relu_bn(X, filters_shape=[3, 3, 128], \n",
    "                     stride=2, scope_name='conv2', \n",
    "                     regulizers=regulizers)\n",
    "    \n",
    "    x = resnext_block(x, branch_num=4, \n",
    "                      scope_name='resnext_2', \n",
    "                      regulizers=regulizers)\n",
    "    \n",
    "    x = conv_relu_bn(X, filters_shape=[3, 3, 256], \n",
    "                     stride=2, scope_name='conv3', \n",
    "                     regulizers=regulizers)\n",
    "    \n",
    "    x = resnext_block(x, branch_num=4, \n",
    "                      scope_name='resnext_3', \n",
    "                      regulizers=regulizers)\n",
    "    \n",
    "    x = conv_relu_bn(X, filters_shape=[3, 3, 512], \n",
    "                     stride=2, scope_name='conv4', \n",
    "                     regulizers=regulizers)\n",
    "    \n",
    "    x = resnext_block(x, branch_num=4, \n",
    "                      scope_name='resnext_4', \n",
    "                      regulizers=regulizers)\n",
    "    \n",
    "    x = tf.layers.average_pooling2d(x, pool_size=(x.shape[1], x.shape[2]), strides=1)\n",
    "    x = tf.reshape(x, [-1, 512])\n",
    "    \n",
    "    W1 = tf.get_variable(\"W1\", shape=[512, 10])\n",
    "    b1 = tf.get_variable(\"b1\", shape=[10])\n",
    "    \n",
    "    regulizers.append(tf.nn.l2_loss(W1))\n",
    "    \n",
    "    out = tf.matmul(x, W1) + b1\n",
    "    return out, regulizers\n",
    "\n",
    "tf.reset_default_graph()\n",
    "\n",
    "X = tf.placeholder(tf.float32, [None, 32, 32, 3])\n",
    "y = tf.placeholder(tf.int64, [None])\n",
    "is_training = tf.placeholder(tf.bool)\n",
    "\n",
    "REG_COEF = 5e-5\n",
    "\n",
    "y_out, regulizers = my_model(X, y, is_training)\n",
    "total_loss = tf.losses.softmax_cross_entropy(tf.one_hot(y, 10), logits=y_out)\n",
    "mean_loss = tf.reduce_mean(total_loss + REG_COEF * tf.add_n(regulizers))\n",
    "\n",
    "# batch normalization in tensorflow requires this extra dependency\n",
    "extra_update_ops = tf.get_collection(tf.GraphKeys.UPDATE_OPS)\n",
    "with tf.control_dependencies(extra_update_ops):\n",
    "    global_step = tf.Variable(0, trainable=False)\n",
    "    learning_rate = tf.train.natural_exp_decay(learning_rate=3e-3,\n",
    "                                               global_step=global_step,\n",
    "                                               decay_steps=10000,\n",
    "                                               decay_rate=0.5)\n",
    "    \n",
    "    optimizer = tf.train.AdamOptimizer(learning_rate)\n",
    "    train_step = optimizer.minimize(mean_loss, global_step=global_step)"
   ]
  },
  {
   "cell_type": "code",
   "execution_count": 110,
   "metadata": {},
   "outputs": [
    {
     "name": "stdout",
     "output_type": "stream",
     "text": [
      "Training: Iteration 0: with minibatch training loss = 11 and accuracy of 0.14\n",
      "Epoch 1, Overall loss = 5.34 and accuracy of 0.283\n",
      "Epoch 2, Overall loss = 1.71 and accuracy of 0.412\n",
      "Epoch 3, Overall loss = 1.57 and accuracy of 0.463\n",
      "Epoch 4, Overall loss = 1.49 and accuracy of 0.492\n",
      "Epoch 5, Overall loss = 1.44 and accuracy of 0.516\n",
      "Validation: Epoch 1, Overall loss = 1.37 and accuracy of 0.491\n",
      "Training: Iteration 0: with minibatch training loss = 1.34 and accuracy of 0.52\n",
      "Epoch 1, Overall loss = 1.38 and accuracy of 0.528\n",
      "Epoch 2, Overall loss = 1.35 and accuracy of 0.545\n",
      "Epoch 3, Overall loss = 1.31 and accuracy of 0.558\n",
      "Epoch 4, Overall loss = 1.28 and accuracy of 0.57\n",
      "Epoch 5, Overall loss = 1.25 and accuracy of 0.581\n",
      "Validation: Epoch 1, Overall loss = 1.24 and accuracy of 0.537\n",
      "Training: Iteration 0: with minibatch training loss = 1.21 and accuracy of 0.58\n",
      "Epoch 1, Overall loss = 1.23 and accuracy of 0.589\n",
      "Epoch 2, Overall loss = 1.19 and accuracy of 0.603\n",
      "Epoch 3, Overall loss = 1.17 and accuracy of 0.612\n",
      "Epoch 4, Overall loss = 1.14 and accuracy of 0.622\n",
      "Epoch 5, Overall loss = 1.12 and accuracy of 0.631\n",
      "Validation: Epoch 1, Overall loss = 1.09 and accuracy of 0.606\n",
      "Training: Iteration 0: with minibatch training loss = 1 and accuracy of 0.64\n",
      "Epoch 1, Overall loss = 1.11 and accuracy of 0.63\n",
      "Epoch 2, Overall loss = 1.07 and accuracy of 0.645\n",
      "Epoch 3, Overall loss = 1.05 and accuracy of 0.651\n",
      "Epoch 4, Overall loss = 1.03 and accuracy of 0.661\n",
      "Epoch 5, Overall loss = 1.01 and accuracy of 0.668\n",
      "Validation: Epoch 1, Overall loss = 1.04 and accuracy of 0.613\n",
      "Training: Iteration 0: with minibatch training loss = 1.03 and accuracy of 0.65\n",
      "Epoch 1, Overall loss = 0.998 and accuracy of 0.674\n",
      "Epoch 2, Overall loss = 0.98 and accuracy of 0.68\n",
      "Epoch 3, Overall loss = 0.964 and accuracy of 0.686\n",
      "Epoch 4, Overall loss = 0.948 and accuracy of 0.691\n",
      "Epoch 5, Overall loss = 0.934 and accuracy of 0.697\n",
      "Validation: Epoch 1, Overall loss = 0.995 and accuracy of 0.617\n",
      "Training: Iteration 0: with minibatch training loss = 0.783 and accuracy of 0.77\n",
      "Epoch 1, Overall loss = 0.911 and accuracy of 0.703\n",
      "Epoch 2, Overall loss = 0.887 and accuracy of 0.71\n",
      "Epoch 3, Overall loss = 0.87 and accuracy of 0.716\n",
      "Epoch 4, Overall loss = 0.855 and accuracy of 0.722\n",
      "Epoch 5, Overall loss = 0.841 and accuracy of 0.728\n",
      "Validation: Epoch 1, Overall loss = 0.883 and accuracy of 0.683\n",
      "Training: Iteration 0: with minibatch training loss = 0.88 and accuracy of 0.73\n",
      "Epoch 1, Overall loss = 0.835 and accuracy of 0.73\n",
      "Epoch 2, Overall loss = 0.819 and accuracy of 0.735\n",
      "Epoch 3, Overall loss = 0.805 and accuracy of 0.741\n",
      "Epoch 4, Overall loss = 0.793 and accuracy of 0.745\n",
      "Epoch 5, Overall loss = 0.782 and accuracy of 0.749\n",
      "Validation: Epoch 1, Overall loss = 0.906 and accuracy of 0.682\n",
      "Training: Iteration 0: with minibatch training loss = 0.789 and accuracy of 0.74\n",
      "Epoch 1, Overall loss = 0.773 and accuracy of 0.753\n",
      "Epoch 2, Overall loss = 0.761 and accuracy of 0.757\n",
      "Epoch 3, Overall loss = 0.751 and accuracy of 0.761\n",
      "Epoch 4, Overall loss = 0.742 and accuracy of 0.764\n",
      "Epoch 5, Overall loss = 0.733 and accuracy of 0.768\n",
      "Validation: Epoch 1, Overall loss = 0.826 and accuracy of 0.698\n",
      "Training: Iteration 0: with minibatch training loss = 0.718 and accuracy of 0.78\n",
      "Epoch 1, Overall loss = 0.725 and accuracy of 0.771\n",
      "Epoch 2, Overall loss = 0.716 and accuracy of 0.775\n",
      "Epoch 3, Overall loss = 0.708 and accuracy of 0.778\n",
      "Epoch 4, Overall loss = 0.7 and accuracy of 0.781\n",
      "Epoch 5, Overall loss = 0.694 and accuracy of 0.783\n",
      "Validation: Epoch 1, Overall loss = 0.819 and accuracy of 0.703\n",
      "Training: Iteration 0: with minibatch training loss = 0.693 and accuracy of 0.8\n",
      "Epoch 1, Overall loss = 0.688 and accuracy of 0.785\n",
      "Epoch 2, Overall loss = 0.682 and accuracy of 0.787\n",
      "Epoch 3, Overall loss = 0.676 and accuracy of 0.789\n",
      "Epoch 4, Overall loss = 0.671 and accuracy of 0.792\n",
      "Epoch 5, Overall loss = 0.666 and accuracy of 0.794\n",
      "Validation: Epoch 1, Overall loss = 0.809 and accuracy of 0.703\n"
     ]
    }
   ],
   "source": [
    "# Feel free to play with this cell\n",
    "# This default code creates a session\n",
    "# and trains your model for 10 epochs\n",
    "# then prints the validation set accuracy\n",
    "sess = tf.Session()\n",
    "\n",
    "sess.run(tf.global_variables_initializer())\n",
    "for _ in range(10):\n",
    "    print('Training: ', end='')\n",
    "    run_model(sess, y_out, mean_loss, X_train, y_train, \n",
    "              epochs=5, batch_size=256, print_every=100000, \n",
    "              training=train_step, plot_losses=False)\n",
    "    print('Validation: ', end='')\n",
    "    run_model(sess, y_out, mean_loss, X_val, y_val, 1, 64)"
   ]
  },
  {
   "cell_type": "code",
   "execution_count": 111,
   "metadata": {},
   "outputs": [
    {
     "name": "stdout",
     "output_type": "stream",
     "text": [
      "Training\n",
      "Epoch 1, Overall loss = 0.66 and accuracy of 0.797\n",
      "Validation\n",
      "Epoch 1, Overall loss = 0.796 and accuracy of 0.707\n"
     ]
    },
    {
     "data": {
      "text/plain": [
       "(0.7963749008178711, 0.70699999999999996)"
      ]
     },
     "execution_count": 111,
     "metadata": {},
     "output_type": "execute_result"
    }
   ],
   "source": [
    "# Test your model here, and make sure \n",
    "# the output of this cell is the accuracy\n",
    "# of your best model on the training and val sets\n",
    "# We're looking for >= 70% accuracy on Validation\n",
    "print('Training')\n",
    "run_model(sess,y_out,mean_loss,X_train,y_train,1,64)\n",
    "print('Validation')\n",
    "run_model(sess,y_out,mean_loss,X_val,y_val,1,64)"
   ]
  },
  {
   "cell_type": "markdown",
   "metadata": {},
   "source": [
    "### Describe what you did here\n",
    "In this cell you should also write an explanation of what you did, any additional features that you implemented, and any visualizations or graphs that you make in the process of training and evaluating your network"
   ]
  },
  {
   "cell_type": "markdown",
   "metadata": {},
   "source": [
    "_Tell us here_"
   ]
  },
  {
   "cell_type": "markdown",
   "metadata": {},
   "source": [
    "### Test Set - Do this only once\n",
    "Now that we've gotten a result that we're happy with, we test our final model on the test set. This would be the score we would achieve on a competition. Think about how this compares to your validation set accuracy."
   ]
  },
  {
   "cell_type": "code",
   "execution_count": 112,
   "metadata": {},
   "outputs": [
    {
     "name": "stdout",
     "output_type": "stream",
     "text": [
      "Test\n",
      "Epoch 1, Overall loss = 0.83 and accuracy of 0.736\n"
     ]
    },
    {
     "data": {
      "text/plain": [
       "(0.8302746078491211, 0.73609999999999998)"
      ]
     },
     "execution_count": 112,
     "metadata": {},
     "output_type": "execute_result"
    }
   ],
   "source": [
    "print('Test')\n",
    "run_model(sess,y_out,mean_loss,X_test,y_test,1,64)"
   ]
  },
  {
   "cell_type": "markdown",
   "metadata": {},
   "source": [
    "## Going further with TensorFlow\n",
    "\n",
    "The next assignment will make heavy use of TensorFlow. You might also find it useful for your projects. \n"
   ]
  },
  {
   "cell_type": "markdown",
   "metadata": {},
   "source": [
    "# Extra Credit Description\n",
    "If you implement any additional features for extra credit, clearly describe them here with pointers to any code in this or other files if applicable."
   ]
  }
 ],
 "metadata": {
  "kernelspec": {
   "display_name": "Python 3",
   "language": "python",
   "name": "python3"
  },
  "language_info": {
   "codemirror_mode": {
    "name": "ipython",
    "version": 3
   },
   "file_extension": ".py",
   "mimetype": "text/x-python",
   "name": "python",
   "nbconvert_exporter": "python",
   "pygments_lexer": "ipython3",
   "version": "3.6.3"
  }
 },
 "nbformat": 4,
 "nbformat_minor": 1
}
